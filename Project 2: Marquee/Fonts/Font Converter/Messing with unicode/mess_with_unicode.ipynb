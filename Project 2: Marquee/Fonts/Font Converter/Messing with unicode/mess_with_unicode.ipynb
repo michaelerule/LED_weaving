{
 "cells": [
  {
   "cell_type": "code",
   "execution_count": 137,
   "metadata": {},
   "outputs": [],
   "source": [
    "%matplotlib inline\n",
    "from neurotools import *\n",
    "import os,sys\n",
    "\n",
    "import unicodedata as ud\n",
    "from unidecode import unidecode"
   ]
  },
  {
   "cell_type": "code",
   "execution_count": 138,
   "metadata": {},
   "outputs": [],
   "source": [
    "with open('letters.txt','r') as f:\n",
    "    lines = f.readlines()"
   ]
  },
  {
   "cell_type": "code",
   "execution_count": 148,
   "metadata": {},
   "outputs": [
    {
     "name": "stdout",
     "output_type": "stream",
     "text": [
      "ABCDEFGHIJKLMNOPQRSTUVWXYZabcdefghijklmnopqrstuvwxyzµÆÐÞßæðþıĸŉŊŋſƆƉƏƐƔƕƖƢƣƦƩƱƷƿǇǉǊǌǱǳǶǷȜȝȢȣȷɁɂɄɑɔəɛɣɤɩɮɷɸʃʉʊʒʕʗʘʚʬʭͰͱͼͿΑΒΓΔΕΖΗΘΙΚΛΜΝΞΟΠΡΣΤΥΦΧΨΩαβγδεζηθικλμνξοπρςστυφχψωϏϐϑϕϖϗϚϛϜϝϞϟϠϡϰϱϲϳϴϵϷϸϹϺϻϾЁЂЃЄЅІЇЈЉЊЋЌЎЏАБВГДЕЖЗИЙКЛМНОПРСТУФХЦЧШЩЪЫЬЭЮЯабвгдежзийклмнопрстуфхцчшщъыьэюяёђѓєѕіїјљњћќўџѠѡѢѣѦѧѪѫѮѯѰѱѲѳѴѵѸѹѺѻѾѿҀҁҌҍҮүҺһӀӏӘәԔԕԖԗԘԙԚԛԜԝԞԟԪԫԬԭᴤᴥᵫᵹẞẟỺỻỼỽιℇℎℏΩKÅℹⱭⱵⱶⱷꙀꙁꙂꙃꙆꙇꙈꙉꙊꙋꙌꙍꙎꙏꙘꙙꙚꙛꙞꙟꙢꙣꙤꙥꙦꙧꙨꙩꙪꙫꚀꚁꚂꚃꚄꚅꚆꚇꚈꚉꚌꚍꚎꚏꚐꚑꚒꚓꚔꚕꚖꚗꚚꚛꜦꜧꜨꜩꜪꜫꜬꜭꜲꜳꜴꜵꜶꜷꜸꜹꜼꜽꝆꝇꝎꝏꝚꝛꝜꝝꝠꝡꝢꝣꝨꝩꝪꝫꝬꝭꝮꝯꝱꝲꝳꝴꝵꝷꝸꝹꝺꝻꝼꝽꞂꞃꞄꞅꞆꞇꞋꞌꬵꭅꭍꭐꭓ\n",
      "476\n",
      "A;AA;AE;AFRICAN D;AIN;ALEUT KA;ALPHA;AO;AU;AV;AY;B;BASELINE ESH;BE;BETA;BIDENTAL PERCUSSIVE;BIG YUS;BILABIAL CLICK;BILABIAL PERCUSSIVE;BINOCULAR O;BLENDED YUS;BROAD OMEGA;BROKEN L;BYELORUSSIAN-UKRAINIAN I;C;CCHE;CHE;CHI;CLOSED LITTLE YUS;CLOSED OMEGA;CLOSED OPEN E;CON;CROSSED O;CUATRILLO;D;DCHE;DE;DELTA;DIGAMMA;DJE;DJERV;DOTLESS I;DOTLESS J;DUM;DWE;DZ;DZE;DZELO;DZHE;DZWE;DZZE;DZZHE;E;EF;EL;EM;EN;ENG;EPSILON;ER;ES;ESH;ET;ETA;ETH;EZH;F;FINAL SIGMA;FITA;G;GAMMA;GHA;GHE;GJE;GLOTTAL STOP;H;HA;HALF H;HARD SIGN;HENG;HETA;HV;HWAIR;HWE;I;IE;INSULAR D;INSULAR F;INSULAR G;INSULAR R;INSULAR S;INSULAR T;IO;IOTA;IS;IZHITSA;J;JE;K;KA;KAPPA;KJE;KOPPA;KRA;KSI;L;LAMDA;LENIS F;LEZH;LHA;LITTLE YUS;LJ;LJE;LONG S;LUM;M;MIDDLE-WELSH LL;MIDDLE-WELSH V;MONOCULAR O;MONOGRAPH UK;MU;MUM;N;N PRECEDED BY APOSTROPHE;NEUTRAL YER;NJ;NJE;NU;NUM;O;OMEGA;OMICRON;OO;OPEN E;OPEN O;OT;OU;P;PALOCHKA;PE;PHARYNGEAL VOICED FRICATIVE;PHI;PI;PSI;Q;QA;R;R ROTUNDA;RAMS HORN;RHA;RHO;ROUND OMEGA;RUM;RUM ROTUNDA;S;SALTILLO;SAMPI;SAN;SCHWA;SEMISOFT SIGN;SHA;SHARP S;SHCHA;SHHA;SHO;SHORT I;SHORT U;SHWE;SIGMA;SOFT DE;SOFT EL;SOFT EM;SOFT SIGN;STIGMA;STIRRUP R;STRAIGHT U;STRETCHED C;T;TAILLESS PHI;TAU;TCHE;TE;THETA;THORN;TRESILLO;TSE;TSHE;TSSE;TSWE;TUM;TWE;TZ;U;U BAR;UE;UI;UK;UKRAINIAN IE;UM;UPSILON;V;VE;VEND;VISIGOTHIC Z;VOICED LARYNGEAL SPIRANT;VY;W;WE;WYNN;X;XI;Y;YA;YAE;YAT;YERU;YI;YN;YOGH;YOT;YR;YU;Z;ZE;ZEMLYA;ZETA;ZHE;ZHWE\n"
     ]
    }
   ],
   "source": [
    "# Remove single-language scripts\n",
    "lines = [l for l in lines if not 'ARMENIAN' in l.upper()]\n",
    "lines = [l for l in lines if not 'COPTIC' in l.upper()]\n",
    "lines = [l for l in lines if not 'GEORGIAN' in l.upper()]\n",
    "lines = [l for l in lines if not 'CITI' in l.upper()]\n",
    "lines = [l for l in lines if not 'KOMI' in l.upper()]\n",
    "lines = [l for l in lines if not 'GLAGOLITIC' in l.upper()]\n",
    "lines = [l for l in lines if not 'DESERET' in l.upper()]\n",
    "\n",
    "# Remove diacritics and ligatures\n",
    "lines = [l for l in lines if not 'WITH' in l.upper()]\n",
    "lines = [l for l in lines if not 'LIGATURE' in l.upper()]\n",
    "\n",
    "# Remove transformed variants\n",
    "lines = [l for l in lines if not 'DOUBLE ' in l.upper()]\n",
    "lines = [l for l in lines if not 'INVERTED' in l.upper()]\n",
    "lines = [l for l in lines if not 'TURNED' in l.upper()]\n",
    "lines = [l for l in lines if not 'SIDEWAYS' in l.upper()]\n",
    "lines = [l for l in lines if not 'REVERSED' in l.upper()]\n",
    "lines = [l for l in lines if not 'TOP HALF' in l.upper()]\n",
    "lines = [l for l in lines if not 'BOTTOM HALF' in l.upper()]\n",
    "lines = [l for l in lines if not 'BLACKLETTER' in l.upper()]\n",
    "lines = [l for l in lines if not 'FULLWIDTH' in l.upper()]\n",
    "lines = [l for l in lines if not 'BARRED' in l.upper()]\n",
    "\n",
    "# Remove math\n",
    "lines = [l for l in lines if not 'MATHEMATICAL' in l.upper()]\n",
    "lines = [l for l in lines if not 'SCRIPT' in l.upper()]\n",
    "lines = [l for l in lines if not 'BLACK-LETTER' in l.upper()]\n",
    "lines = [l for l in lines if not 'DOUBLE-STRUCK' in l.upper()]\n",
    "lines = [l for l in lines if not 'SMALL CAPITAL' in l.upper()]\n",
    "\n",
    "# Remove other stuff\n",
    "for k in 'TONE PAMPHYLIAN VOLAPUK DIGRAPH KHAKASSIAN EGYPTOLOGICAL ASHKIR ABKHASIAN IOTIFIED ARCHAIC'.split():\n",
    "    lines = [l for l in lines if not k in l.upper()]\n",
    "    \n",
    "lines = sorted(lines,key=lambda s:s.split()[1])\n",
    "s = ''.join(sorted([l.split()[1] for l in lines]))\n",
    "print(s)\n",
    "print(len(s))\n",
    "#[c+':'+unidecode(c) for c in s]\n",
    "\n",
    "letter = sorted(list(set([' '.join(\\\n",
    "         (lambda k:k[k.index('LETTER')+1:])(s.split())) \n",
    "         for s in lines if 'LETTER' in s])))\n",
    "print(';'.join(letter))"
   ]
  },
  {
   "cell_type": "markdown",
   "metadata": {},
   "source": [
    "# Heck with this do it manually!\n",
    "\n",
    "We're building a custom codec with 25+127=152 non-ASCII slots."
   ]
  },
  {
   "cell_type": "code",
   "execution_count": 329,
   "metadata": {},
   "outputs": [],
   "source": [
    "with open('letters.txt','r') as f:\n",
    "    lines = f.readlines()"
   ]
  },
  {
   "cell_type": "code",
   "execution_count": 330,
   "metadata": {},
   "outputs": [
    {
     "data": {
      "text/plain": [
       "['\\u202d Č  U+0010C LATIN CAPITAL LETTER C WITH CARON\\n']"
      ]
     },
     "execution_count": 330,
     "metadata": {},
     "output_type": "execute_result"
    }
   ],
   "source": [
    "[l for l in lines if 'Č' in l]"
   ]
  },
  {
   "cell_type": "code",
   "execution_count": 335,
   "metadata": {},
   "outputs": [
    {
     "name": "stdout",
     "output_type": "stream",
     "text": [
      "ABCDEFGHIJKLMNOPQRSTUVWXYZabcdefghijklmnopqrstuvwxyzªµºÀÁÂÃÄÅÆÇÈÉÊËÌÍÎÏÐÑÒÓÔÕÖØÙÚÛÜÝÞßàáâãäåæçèéêëìíîïðñòóôõöøùúûüýþÿĀāĂăĄąĆćĈĉĊċČčĎďĐđĒēĔĕĖėĘęĚěĜĝĞğĠġĢģĤĥĦħĨĩĪīĬĭĮįİıĲĳĴĵĶķĸĹĺĻļĽľĿŀŁłŃńŅņŇňŉŊŋŌōŎŏŐőŒœŔŕŖŗŘřŚśŜŝŞşŠšŢţŤťŦŧŨũŪūŬŭŮůŰűŲųŴŵŶŷŸŹźŻżŽžſƀƁƂƃƆƇƈƉƊƋƌƍƎƏƐƑƒƓƔƕƖƗƘƙƚƛƜƝƞƟƠơƢƣƤƥƦƩƪƫƬƭƮƯưƱƲƳƴƵƶƷƸƹƻƾƿǀǁǂǃǄǅǆǇǈǉǊǋǌǍǎǏǐǑǒǓǔǕǖǗǘǙǚǛǜǝǞǟǠǡǢǣǤǥǦǧǨǩǪǫǬǭǮǯǰǱǲǳǴǵǶǷǸǹǺǻǼǽǾǿȀȁȂȃȄȅȆȇȈȉȊȋȌȍȎȏȐȑȒȓȔȕȖȗȘșȚțȜȝȞȟȠȡȢȣȤȥȦȧȨȩȪȫȬȭȮȯȰȱȲȳȴȵȶȷȸȹȺȻȼȽȾɁɂɃɄɅɆɇɈɉɌɍɎɏɐɑɒɓɔɕɗɘəɚɛɜɝɞɟɠɡɢɣɤɥɦɧɨɩɪɫɬɭɮɯɰɱɲɳɴɵɶɷɸɹɺɻɼɾɿʀʁʂʃʄʅʆʇʈʉʊʋʌʍʎʏʐʑʒʓʔʕʖʗʘʙʚʛʜʞʟʠʡʢʣʤʥʦʧʨʩʪʫʬʭʮˇͰͱʹͺͻͼͽͿΆΈΉΊΌΎΏΐΑΒΓΔΕΖΗΘΙΚΛΜΝΞΟΠΡΣΤΥΦΧΨΩΪΫάέήίΰαβγδεζηθικλμνξοπρςστυφχψωϊϋόύώϏϐϑϒϓϔϕϖϗϚϛϜϝϞϟϠϡϰϱϲϳϴϵϷϸϹϺϻϼϽϾϿЀЁЂЃЄЅІЇЈЉЊЋЌЍЎЏАБВГДЕЖЗИЙКЛМНОПРСТУФХЦЧШЩЪЫЬЭЮЯабвгдежзийклмнопрстуфхцчшщъыьэюяѐёђѓєѕіїјљњћќѝўџѠѡѢѣѤѥѦѧѨѩѪѫѬѭѮѯѰѱѲѳѴѵѶѷѸѹѺѻѼѽѾѿҀҁҌҍҎҏҐґҒғҔҕҖҗҘҙҚқҜҝҞҟҢңҤҥҦҧҪҫҬҭҮүҰұҲҳҴҵҶҷҸҹҺһӀӁӂӃӄӇӈӏӐӑӒӓӔӕӖӗӘәӚӛӜӝӞӟӢӣӤӥӦӧӨөӪӫӬӭӮӯӰӱӲӳӴӵӶӷӸӹӺӻӼӽӾӿԐԑԒԓԔԕԖԗԘԙԚԛԜԝԞԟԠԡԢԣԤԥԦԧԨԩԪԫԬԭԮԯאבגהוזחטיךכלםמןנסעףפץצקרשתװױײᱚᱛᱜᱝᱞᱟᱠᱡᱢᱣᱤᱥᱦᱧᱨᱩᱪᱫᱬᱭᱮᱯᱰᱱᱲᱳᱴᱵᱶᱷᱸᱹᱺᱻᱼᱽᴀᴁᴂᴃᴄᴅᴆᴇᴈᴉᴊᴋᴌᴍᴎᴏᴐᴑᴒᴓᴔᴕᴖᴗᴘᴙᴚᴛᴜᴝᴞᴟᴠᴡᴢᴣᴤᴥᴦᴧᴨᴩᴪᴫᵢᵣᵤᵥᵦᵧᵨᵩᵪᵫᵬᵭᵮᵯᵰᵱᵲᵳᵴᵵᵶᵷᵹᵺᵻᵼᵽᵾᵿᶀᶁᶂᶃᶄᶅᶆᶇᶈᶉᶊᶋᶌᶍᶎᶏᶐᶒᶓᶔᶕᶖᶗᶘᶙᶚḀḁḂḃḄḅḆḇḈḉḊḋḌḍḎḏḐḑḒḓḔḕḖḗḘḙḚḛḜḝḞḟḠḡḢḣḤḥḦḧḨḩḪḫḬḭḮḯḰḱḲḳḴḵḶḷḸḹḺḻḼḽḾḿṀṁṂṃṄṅṆṇṈṉṊṋṌṍṎṏṐṑṒṓṔṕṖṗṘṙṚṛṜṝṞṟṠṡṢṣṤṥṦṧṨṩṪṫṬṭṮṯṰṱṲṳṴṵṶṷṸṹṺṻṼṽṾṿẀẁẂẃẄẅẆẇẈẉẊẋẌẍẎẏẐẑẒẓẔẕẖẗẘẙẚẛẜẝẞẟẠạẢảẤấẦầẨẩẪẫẬậẮắẰằẲẳẴẵẶặẸẹẺẻẼẽẾếỀềỂểỄễỆệỈỉỊịỌọỎỏỐốỒồỔổỖỗỘộỚớỜờỞởỠỡỢợỤụỦủỨứỪừỬửỮữỰựỲỳỴỵỶỷỸỹỺỻỼỽỾỿἀἁἂἃἄἅἆἇἈἉἊἋἌἍἎἏἐἑἒἓἔἕἘἙἚἛἜἝἠἡἢἣἤἥἦἧἨἩἪἫἬἭἮἯἰἱἲἳἴἵἶἷἸἹἺἻἼἽἾἿὀὁὂὃὄὅὈὉὊὋὌὍὐὑὒὓὔὕὖὗὙὛὝὟὠὡὢὣὤὥὦὧὨὩὪὫὬὭὮὯὰάὲέὴήὶίὸόὺύὼώᾀᾁᾂᾃᾄᾅᾆᾇᾈᾉᾊᾋᾌᾍᾎᾏᾐᾑᾒᾓᾔᾕᾖᾗᾘᾙᾚᾛᾜᾝᾞᾟᾠᾡᾢᾣᾤᾥᾦᾧᾨᾩᾪᾫᾬᾭᾮᾯᾰᾱᾲᾳᾴᾶᾷᾸᾹᾺΆᾼιῂῃῄῆῇῈΈῊΉῌῐῑῒΐῖῗῘῙῚΊῠῡῢΰῤῥῦῧῨῩῪΎῬῲῳῴῶῷῸΌῺΏῼⁱⁿₐₑₒₓₔₕₖₗₘₙₚₛₜℇℊℋℎℏℐℒℓℛΩKÅℬℯℰℱℲℳℴℵℶℷⅎↃↄⱠⱡⱢⱣⱥⱦⱧⱨⱩⱪⱫⱬⱭⱮⱯⱰⱱⱲⱳⱴⱵⱶⱸⱺⱻⱼⸯ〱〲〳〴〵ꙀꙁꙂꙃꙄꙅꙆꙇꙈꙉꙊꙋꙌꙍꙎꙏꙐꙑꙒꙓꙔꙕꙖꙗꙘꙙꙚꙛꙜꙝꙞꙟꙠꙡꙢꙣꙤꙥꙦꙧꙨꙩꙪꙫꙬꙭꙮꙿꚀꚁꚂꚃꚄꚅꚆꚇꚈꚉꚊꚋꚌꚍꚎꚏꚐꚑꚒꚓꚔꚕꚖꚗꚘꚙꚚꚛꜦꜧꜨꜩꜪꜫꜬꜭꜮꜯꜰꜱꜲꜳꜴꜵꜶꜷꜸꜹꜺꜻꜼꜽꜾꜿꝀꝁꝂꝃꝄꝅꝆꝇꝈꝉꝊꝋꝌꝍꝎꝏꝐꝑꝒꝓꝖꝗꝘꝙꝚꝛꝜꝝꝞꝟꝠꝡꝤꝥꝦꝧꝨꝩꝪꝫꝬꝭꝮꝯꝱꝲꝳꝴꝵꝶꝷꝸꝹꝺꝻꝼꝽꝾꝿꞀꞁꞂꞃꞄꞅꞆꞇꞋꞌꞍꞎꞐꞑꞒꞓꞔꞕꞖꞗꞘꞙꞠꞡꞢꞣꞤꞥꞦꞧꞨꞩꞪꞫꞬꞭꞰꞱꟷꟺꟻꟼꟽꟾꬰꬱꬳꬴꬵꬷꬸꬹꬿꭀꭁꭂꭃꭄꭅꭆꭇꭈꭋꭌꭍꭎꭏꭐꭑꭒꭓꭔꭕꭖꭗꭘꭙꭚꭤꭥﬀﬁﬂﬃﬄﬅﬆיִײַﬠﬡﬣﬤﬥﬦﬧﬨשׁשׂשּׁשּׂאַאָאּבּגּהּוּזּטּיּךּכּלּמּנּסּףּפּצּקּרּשּתּוֹבֿכֿפֿﭏ𐭀𐭁𐭂𐭄𐭅𐭆𐭇𐭈𐭉𐭊𐭋𐭌𐭍𐭎𐭏𐭐𐭑𐭒𐭓𐭔𐭕𐭠𐭡𐭢𐭤𐭥𐭦𐭧𐭨𐭩𐭪𐭫𐭬𐭭𐭮𐭯𐭰𐭱𐭲\n",
      "1943\n"
     ]
    }
   ],
   "source": [
    "#SCRIPT \n",
    "# LIGATURE INVERTED TURNED SIDEWAYS REVERSED DIGRAPH\n",
    "remove = '''\n",
    " ARMENIAN COPTIC GEORGIAN CITI KOMI GLAGOLITIC DESERET\n",
    " MENDE KIKAKUI BASSA VAH MIAO BAMUM KHOJKI MAHAJANI\n",
    " SIDDHAM TIRHUTA GRANTHA GRANTHA KHUDAWADI\n",
    " ATHAPASCAN ATIYA AURAMAZDAA ARABIC ARABIAN ARABIC-INDIC ARMOUR\n",
    " BALINESE BAIRKAN BAIMAI BAHIRGOMUKHA SHARADA\n",
    " HANGUL DUPLOYAN PAHAWH HMONG EGYPTIAN MAHAJANI\n",
    " BLACKLETTER FULLWIDTH MATHEMATICAL  \n",
    " BLACK-LETTER DOUBLE-STRUCK TONE \n",
    " PAMPHYLIAN SYLLABLE\n",
    " VOLAPUK KHAKASSIAN EGYPTOLOGICAL ASHKIR ABKHASIAN \n",
    " IDEOGRAPH CJK CUNEIFORM TAKRI MODI MAHAJANI\n",
    " PAU CIN HAU CHAKMA MRO BRAHMI TURKIC AVESTAN\n",
    " AVESTAN MANICHAEAN KHAROSHTHI MEROITIC LYDIAN CAUCASIAN\n",
    " PSALTER KAITHI SORA CYPRIOT ARAMAIC SHAVIAN NABATAEAN\n",
    " PHOENICIAN LINEAR PALMYRENE ELBASAN OSMANYA PERMIC\n",
    " GOTHIC ITALIC UGARITIC CARIAN PERSIAN KATAKANA MEETEI\n",
    " JIHVAMULIYA LYCIAN ETHIOPIC TAI VIET CHAM MYANMAR\n",
    " JAVANESE KAYAH REJANG SAURASHTRA\n",
    " BATAK BENGALI BOPOMOFO BUGINESE BUHID CANADIAN CHEROKEE \n",
    " DALET DEVANAGARI GUJARATI GURMUKHI HANUNOO HIRAGANA INFORMATION KANNADA \n",
    " KHMER LAO LEPCHA LIMBU LISU MALAYALAM MANDAIC MASU MONGOLIAN NKO OGHAM \n",
    " ORIYA PHAGS-PA RUNIC SAMARITAN SINHALA SUNDANESE SYLOTI SYRIAC TAGALOG \n",
    " TAGBANWA TAMIL TELUGU THAANA THAI TIBETAN TIFINAGH VAI VEDIC\n",
    " ARCHAIC'''.split()\n",
    "#+\\['TOP HALF'+'BOTTOM HALF'+'SMALL CAPITAL']\n",
    "#  WITH LIGATURE DOUBLE INVERTED TURNED SIDEWAYS REVERSED \n",
    "for k in remove:\n",
    "    lines = [l for l in lines if not k in l.upper()]\n",
    "    \n",
    "lines = sorted(lines,key=lambda s:s.split()[1])\n",
    "s = ''.join(sorted([l.split()[1] for l in lines]))\n",
    "\n",
    "# Why are these characters missing?\n",
    "#s += 'ČčĎďĚěĲĳĽľŇňŒœŘřŠšŤťŽžɐɡɯɵɽʌЇїѨѩѬѭדזע€№'\n",
    "\n",
    "print(s)\n",
    "print(len(s))\n"
   ]
  },
  {
   "cell_type": "code",
   "execution_count": 336,
   "metadata": {},
   "outputs": [
    {
     "data": {
      "text/plain": [
       "['\\u202d Ї  U+00407 CYRILLIC CAPITAL LETTER YI\\n',\n",
       " '\\u202d ї  U+00457 CYRILLIC SMALL LETTER YI\\n',\n",
       " '\\u202d ז  U+005D6 HEBREW LETTER ZAYIN\\n',\n",
       " '\\u202d ע  U+005E2 HEBREW LETTER AYIN\\n',\n",
       " '\\u202d װ  U+005F0 HEBREW LIGATURE YIDDISH DOUBLE VAV\\n',\n",
       " '\\u202d ױ  U+005F1 HEBREW LIGATURE YIDDISH VAV YOD\\n',\n",
       " '\\u202d ײ  U+005F2 HEBREW LIGATURE YIDDISH DOUBLE YOD\\n',\n",
       " '\\u202d ײַ  U+0FB1F HEBREW LIGATURE YIDDISH YOD YOD PATAH\\n',\n",
       " '\\u202d ﬠ  U+0FB20 HEBREW LETTER ALTERNATIVE AYIN\\n',\n",
       " '\\u202d זּ  U+0FB36 HEBREW LETTER ZAYIN WITH DAGESH\\n',\n",
       " '\\u202d 𐭆  U+10B46 INSCRIPTIONAL PARTHIAN LETTER ZAYIN\\n',\n",
       " '\\u202d 𐭏  U+10B4F INSCRIPTIONAL PARTHIAN LETTER AYIN\\n',\n",
       " '\\u202d 𐭥  U+10B65 INSCRIPTIONAL PAHLAVI LETTER WAW-AYIN-RESH\\n',\n",
       " '\\u202d 𐭦  U+10B66 INSCRIPTIONAL PAHLAVI LETTER ZAYIN\\n']"
      ]
     },
     "execution_count": 336,
     "metadata": {},
     "output_type": "execute_result"
    }
   ],
   "source": [
    "[l for l in lines if 'YI' in l]"
   ]
  },
  {
   "cell_type": "code",
   "execution_count": 339,
   "metadata": {},
   "outputs": [
    {
     "name": "stdout",
     "output_type": "stream",
     "text": [
      "¡¢£¤¥¦§¨©«¬®¯°±²³´¶·¸¹»¼½¾¿×÷ɽʰʲʹʺˀˈˌː˘˙˛˝ˢ̥̪̯̃̊͡΄΅ד،؛؟ءآأؤإئابةتثجحخدذرزسشصضطظعغـفقكلمنهوىيًٌٍَُِّْกขฃคฅฆงจฉชซฌญฎฏฐฑฒณดตถทธนบปผฝพฟภมยรฤลฦวศษสหฬอฮฯะัาำิีึืฺุู฿เแโใไๅๆ็่้๊๋์ํ๎๏๐๑๒๓๔๕๖๗๘๙๚๛–—―‗‘’“”„†‿€₯№◌\n",
      "ªµºÀÁÂÃÄÅÆÇÈÉÊËÌÍÎÏÐÑÒÓÔÕÖØÙÚÛÜÝÞßàáâãäåæçèéêëìíîïðñòóôõöøùúûüýþÿĀāĂăĄąĆćĈĉĊċČčĎďĐđĒēĔĕĖėĘęĚěĜĝĞğĠġĢģĤĥĦħĨĩĪīĬĭĮįİıĲĳĴĵĶķĸĹĺĻļĽľĿŀŁłŃńŅņŇňŉŊŋŌōŎŏŐőŒœŔŕŖŗŘřŚśŜŝŞşŠšŢţŤťŦŧŨũŪūŬŭŮůŰűŲųŴŵŶŷŸŹźŻżŽžſǫȘșȚțɐɑɔɕəɛɟɡɣɤɦɨɪɫɯɲɵɾʂʃʉʊʋʌʐʑʒˇͺΆΈΉΊΌΎΏΐΑΒΓΔΕΖΗΘΙΚΛΜΝΞΟΠΡΣΤΥΦΧΨΩΪΫάέήίΰαβγδεζηθικλμνξοπρςστυφχψωϊϋόύώЁЂЃЄЅІЇЈЉЊЋЌЎЏАБВГДЕЖЗИЙКЛМНОПРСТУФХЦЧШЩЪЫЬЭЮЯабвгдежзийклмнопрстуфхцчшщъыьэюяёђѓєѕіїјљњћќўџѠѡѢѣѦѧѨѩѪѫѬѭѮѯѰѱѲѳѴѵҐґאבגהוזחטיךכלםמןנסעףפץצקרשתḂḃḊḋḞḟṀṁṖṗṠṡṪṫẀẁẂẃẄẅẞỲỳ\n"
     ]
    }
   ],
   "source": [
    "with open('european.txt','r') as f:\n",
    "    chlines = f.readlines()\n",
    "chars = set(''.join(chlines))\n",
    "chars-= {chr(i) for i in range(128)}\n",
    "chars = ''.join(sorted(list(chars)))\n",
    "#print(chars,len(chars))\n",
    "\n",
    "# Find chars in the ISO extended\n",
    "# not in the unicode letter-like symbols\n",
    "print(''.join([c for c in chars if not c in s]))\n",
    "\n"
   ]
  },
  {
   "cell_type": "code",
   "execution_count": 341,
   "metadata": {},
   "outputs": [
    {
     "name": "stdout",
     "output_type": "stream",
     "text": [
      "ªµºÀÁÂÃÄÅÆÇÈÉÊËÌÍÎÏÐÑÒÓÔÕÖØÙÚÛÜÝÞßàáâãäåæçèéêëìíîïðñòóôõöøùúûüýþÿĀāĂăĄąĆćĈĉĊċČčĎďĐđĒēĔĕĖėĘęĚěĜĝĞğĠġĢģĤĥĦħĨĩĪīĬĭĮįİıĲĳĴĵĶķĸĹĺĻļĽľĿŀŁłŃńŅņŇňŉŊŋŌōŎŏŐőŒœŔŕŖŗŘřŚśŜŝŞşŠšŢţŤťŦŧŨũŪūŬŭŮůŰűŲųŴŵŶŷŸŹźŻżŽžſǫȘșȚțɐɑɔɕəɛɟɡɣɤɦɨɪɫɯɲɵɾʂʃʉʊʋʌʐʑʒˇͺΆΈΉΊΌΎΏΐΑΒΓΔΕΖΗΘΙΚΛΜΝΞΟΠΡΣΤΥΦΧΨΩΪΫάέήίΰαβγδεζηθικλμνξοπρςστυφχψωϊϋόύώЁЂЃЄЅІЇЈЉЊЋЌЎЏАБВГДЕЖЗИЙКЛМНОПРСТУФХЦЧШЩЪЫЬЭЮЯабвгдежзийклмнопрстуфхцчшщъыьэюяёђѓєѕіїјљњћќўџѠѡѢѣѦѧѨѩѪѫѬѭѮѯѰѱѲѳѴѵҐґאבגהוזחטיךכלםמןנסעףפץצקרשתḂḃḊḋḞḟṀṁṖṗṠṡṪṫẀẁẂẃẄẅẞỲỳ\n",
      "459\n"
     ]
    }
   ],
   "source": [
    "# Intersection set\n",
    "chars = set(chars)&set(s)\n",
    "chars = ''.join(sorted(list(chars)))\n",
    "print(chars)\n",
    "print(len(chars))"
   ]
  },
  {
   "cell_type": "markdown",
   "metadata": {},
   "source": [
    "# Identify letter-like forms"
   ]
  },
  {
   "cell_type": "code",
   "execution_count": 151,
   "metadata": {},
   "outputs": [
    {
     "name": "stdout",
     "output_type": "stream",
     "text": [
      "¡¢£¤¥¦§¨©ª«¬®¯°±²³´µ¶·¸¹º»¼½¾¿ÀÁÂÃÄÅÆÇÈÉÊËÌÍÎÏÐÑÒÓÔÕÖ×ØÙÚÛÜÝÞßàáâãäåæçèéêëìíîïðñòóôõö÷øùúûüýþÿĀāĂăĄąĆćĈĉĊċČčĎďĐđĒēĔĕĖėĘęĚěĜĝĞğĠġĢģĤĥĦħĨĩĪīĬĭĮįİıĲĳĴĵĶķĸĹĺĻļĽľĿŀŁłŃńŅņŇňŉŊŋŌōŎŏŐőŒœŔŕŖŗŘřŚśŜŝŞşŠšŢţŤťŦŧŨũŪūŬŭŮůŰűŲųŴŵŶŷŸŹźŻżŽžſǫȘșȚțɐɑɔɕəɛɟɡɣɤɦɨɪɫɯɲɵɽɾʂʃʉʊʋʌʐʑʒʰʲʹʺˀˇˈˌː˘˙˛˝ˢ̥̪̯̃̊͡ͺ΄΅ΆΈΉΊΌΎΏΐΑΒΓΔΕΖΗΘΙΚΛΜΝΞΟΠΡΣΤΥΦΧΨΩΪΫάέήίΰαβγδεζηθικλμνξοπρςστυφχψωϊϋόύώЁЂЃЄЅІЇЈЉЊЋЌЎЏАБВГДЕЖЗИЙКЛМНОПРСТУФХЦЧШЩЪЫЬЭЮЯабвгдежзийклмнопрстуфхцчшщъыьэюяёђѓєѕіїјљњћќўџѠѡѢѣѦѧѨѩѪѫѬѭѮѯѰѱѲѳѴѵҐґאבגדהוזחטיךכלםמןנסעףפץצקרשת،؛؟ءآأؤإئابةتثجحخدذرزسشصضطظعغـفقكلمنهوىيًٌٍَُِّْกขฃคฅฆงจฉชซฌญฎฏฐฑฒณดตถทธนบปผฝพฟภมยรฤลฦวศษสหฬอฮฯะัาำิีึืฺุู฿เแโใไๅๆ็่้๊๋์ํ๎๏๐๑๒๓๔๕๖๗๘๙๚๛ḂḃḊḋḞḟṀṁṖṗṠṡṪṫẀẁẂẃẄẅẞỲỳ–—―‗‘’“”„†‿€₯№◌ 661\n"
     ]
    }
   ],
   "source": []
  },
  {
   "cell_type": "code",
   "execution_count": 119,
   "metadata": {},
   "outputs": [
    {
     "data": {
      "text/plain": [
       "'\\t\\n !\"#$%&\\'()*+,-./0123456789:;<=>?@ABCDEFGHIJKLMNOPQRSTUVWXYZ[\\\\]^_`abcdefghijklmnopqrstuvwxyz{|}~¡¢£¤¥¦§¨©ª«¬®¯°±²³´µ¶·¸¹º»¼½¾¿ÀÁÂÃÄÅÆÇÈÉÊËÌÍÎÏÐÑÒÓÔÕÖ×ØÙÚÛÜÝÞßàáâãäåæçèéêëìíîïðñòóôõö÷øùúûüýþÿĀāĂăĄąĆćĈĉĊċČčĎďĐđĒēĔĕĖėĘęĚěĜĝĞğĠġĢģĤĥĦħĨĩĪīĬĭĮįİıĲĳĴĵĶķĸĹĺĻļĽľĿŀŁłŃńŅņŇňŉŊŋŌōŎŏŐőŒœŔŕŖŗŘřŚśŜŝŞşŠšŢţŤťŦŧŨũŪūŬŭŮůŰűŲųŴŵŶŷŸŹźŻżŽžſǫȘșȚțɐɑɔɕəɛɟɡɣɤɦɨɪɫɯɲɵɽɾʂʃʉʊʋʌʐʑʒʰʲʹʺˀˇˈˌː˘˙˛˝ˢ̥̪̯̃̊͡ͺ΄΅ΆΈΉΊΌΎΏΐΑΒΓΔΕΖΗΘΙΚΛΜΝΞΟΠΡΣΤΥΦΧΨΩΪΫάέήίΰαβγδεζηθικλμνξοπρςστυφχψωϊϋόύώЁЂЃЄЅІЇЈЉЊЋЌЎЏАБВГДЕЖЗИЙКЛМНОПРСТУФХЦЧШЩЪЫЬЭЮЯабвгдежзийклмнопрстуфхцчшщъыьэюяёђѓєѕіїјљњћќўџѠѡѢѣѦѧѨѩѪѫѬѭѮѯѰѱѲѳѴѵҐґאבגדהוזחטיךכלםמןנסעףפץצקרשתḂḃḊḋḞḟṀṁṖṗṠṡṪṫẀẁẂẃẄẅẞỲỳ–—―‗‘’“”„†‿€₯№◌'"
      ]
     },
     "execution_count": 119,
     "metadata": {},
     "output_type": "execute_result"
    }
   ],
   "source": []
  },
  {
   "cell_type": "code",
   "execution_count": null,
   "metadata": {},
   "outputs": [],
   "source": []
  }
 ],
 "metadata": {
  "kernelspec": {
   "display_name": "Python 3",
   "language": "python",
   "name": "python3"
  },
  "language_info": {
   "codemirror_mode": {
    "name": "ipython",
    "version": 3
   },
   "file_extension": ".py",
   "mimetype": "text/x-python",
   "name": "python",
   "nbconvert_exporter": "python",
   "pygments_lexer": "ipython3",
   "version": "3.5.2"
  }
 },
 "nbformat": 4,
 "nbformat_minor": 2
}
