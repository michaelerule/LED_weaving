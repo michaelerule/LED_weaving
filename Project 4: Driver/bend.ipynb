{
 "cells": [
  {
   "cell_type": "code",
   "execution_count": 1,
   "id": "7b54c9f0-102f-4909-af83-9d189b9eab6d",
   "metadata": {},
   "outputs": [],
   "source": [
    "%matplotlib inline\n",
    "%load_ext autoreload\n",
    "%autoreload 2\n",
    "\n",
    "from pylab import *"
   ]
  },
  {
   "cell_type": "code",
   "execution_count": 5,
   "id": "620b0e26-023b-42cd-80f8-513392aa510d",
   "metadata": {},
   "outputs": [],
   "source": [
    "N = 7\n",
    "K = N*(N-1)"
   ]
  },
  {
   "cell_type": "code",
   "execution_count": 4,
   "id": "a74791a4-bed6-419f-91a1-5cf9d2920abb",
   "metadata": {},
   "outputs": [
    {
     "name": "stdout",
     "output_type": "stream",
     "text": [
      "3 3\n"
     ]
    }
   ],
   "source": [
    "Ng1 = N//2\n",
    "Ng2 = (N-1)//2\n",
    "print(Ng1,Ng2)"
   ]
  },
  {
   "cell_type": "code",
   "execution_count": 6,
   "id": "39fcb4c8-4589-4382-b250-982628a25eeb",
   "metadata": {},
   "outputs": [],
   "source": [
    "Nr  = K//(Ng1+Ng2)\n",
    "Nr2 = "
   ]
  },
  {
   "cell_type": "code",
   "execution_count": null,
   "id": "6381ceb1-7d48-4813-99bf-69e61e93a195",
   "metadata": {},
   "outputs": [],
   "source": [
    "lines = []\n",
    "\n",
    "y = 0\n",
    "for r in range(Nr):\n",
    "    r1 = r*2\n",
    "    \n",
    "    θ = \n",
    "    \n",
    "    \n",
    "    r2 = r*2+1\n",
    "    "
   ]
  }
 ],
 "metadata": {
  "kernelspec": {
   "display_name": "Python 3 (ipykernel)",
   "language": "python",
   "name": "python3"
  },
  "language_info": {
   "codemirror_mode": {
    "name": "ipython",
    "version": 3
   },
   "file_extension": ".py",
   "mimetype": "text/x-python",
   "name": "python",
   "nbconvert_exporter": "python",
   "pygments_lexer": "ipython3",
   "version": "3.8.10"
  }
 },
 "nbformat": 4,
 "nbformat_minor": 5
}
